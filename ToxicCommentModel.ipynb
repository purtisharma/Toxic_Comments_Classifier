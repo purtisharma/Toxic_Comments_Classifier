{
 "cells": [
  {
   "attachments": {},
   "cell_type": "markdown",
   "metadata": {},
   "source": [
    "## Project Title -Detecting Toxic Comments using NLP \n",
    "This project aims to mitigate the negative impacts of online hate comments and fake news within households, with a focus on protecting children who may have limited technology expertise. It specifically addresses three types of online hate comments: \n",
    "- Community-based\n",
    "- Religion-based \n",
    "- Gender-based\n",
    "\n",
    "The project involved collecting user data from online sources, training and analyzing datasets, and annotating 400,000+ sentences with risk levels (non-risky or risky). Additionally, data pre-processing and the development of a machine learning model to detect risky behavior are key components of the project."
   ]
  },
  {
   "attachments": {},
   "cell_type": "markdown",
   "metadata": {},
   "source": [
    "## Step 1 Data cleaning & merging from different sources\n",
    "List of the datasets which I will use:\n",
    "\n",
    "1. Zampieri2019: Offensive Posts in Social Media\n",
    "2. Malignant comments clean\n",
    "\n",
    "\n",
    "The pre-processing to create 'clean_sentence_training' column in data will involve the following steps:\n",
    "\n",
    "1. delete all rows containing null values\n",
    "2. stopwords removal\n",
    "3. removal of digits and words containing digits, punctuation and special characters, extra spaces, web links etc\n",
    "4. lemmatization\n",
    "\n",
    "I did not change the case of the sentences as the distinction between lowercase and uppercase can be meaningful in this context(based on the discussion with modelling team).\n",
    "The pre-processing for the 'clean_sentence_EDA' will involve all the steps above, plus the deletion of all emojis (if present).\n",
    "\n",
    "The labels will be:\n",
    "\n",
    "    '1' for RISKY sentences (eg., 'hateful' or 'abusive');\n",
    "    '0' for NON RISKY sentences."
   ]
  },
  {
   "cell_type": "code",
   "execution_count": 76,
   "metadata": {},
   "outputs": [],
   "source": [
    "# Import Necessary Libraries\n",
    "import pandas as pd\n",
    "import numpy as np\n",
    "from nltk.corpus import stopwords\n",
    "from nltk.stem import WordNetLemmatizer\n",
    "from nltk.tokenize import word_tokenize\n",
    "import emoji\n",
    "import re"
   ]
  },
  {
   "cell_type": "code",
   "execution_count": 77,
   "metadata": {},
   "outputs": [
    {
     "data": {
      "text/html": [
       "<div>\n",
       "<style scoped>\n",
       "    .dataframe tbody tr th:only-of-type {\n",
       "        vertical-align: middle;\n",
       "    }\n",
       "\n",
       "    .dataframe tbody tr th {\n",
       "        vertical-align: top;\n",
       "    }\n",
       "\n",
       "    .dataframe thead th {\n",
       "        text-align: right;\n",
       "    }\n",
       "</style>\n",
       "<table border=\"1\" class=\"dataframe\">\n",
       "  <thead>\n",
       "    <tr style=\"text-align: right;\">\n",
       "      <th></th>\n",
       "      <th>id</th>\n",
       "      <th>text</th>\n",
       "      <th>labels</th>\n",
       "    </tr>\n",
       "  </thead>\n",
       "  <tbody>\n",
       "    <tr>\n",
       "      <th>0</th>\n",
       "      <td>0</td>\n",
       "      <td>@USER She should ask a few native Americans wh...</td>\n",
       "      <td>['offensive']</td>\n",
       "    </tr>\n",
       "    <tr>\n",
       "      <th>1</th>\n",
       "      <td>1</td>\n",
       "      <td>@USER @USER Go home you’re drunk!!! @USER #MAG...</td>\n",
       "      <td>['offensive']</td>\n",
       "    </tr>\n",
       "    <tr>\n",
       "      <th>2</th>\n",
       "      <td>2</td>\n",
       "      <td>Amazon is investigating Chinese employees who ...</td>\n",
       "      <td>['none']</td>\n",
       "    </tr>\n",
       "    <tr>\n",
       "      <th>3</th>\n",
       "      <td>3</td>\n",
       "      <td>@USER Someone should'veTaken\" this piece of sh...</td>\n",
       "      <td>['offensive']</td>\n",
       "    </tr>\n",
       "    <tr>\n",
       "      <th>4</th>\n",
       "      <td>4</td>\n",
       "      <td>@USER @USER Obama wanted liberals &amp;amp; illega...</td>\n",
       "      <td>['none']</td>\n",
       "    </tr>\n",
       "  </tbody>\n",
       "</table>\n",
       "</div>"
      ],
      "text/plain": [
       "   id                                               text         labels\n",
       "0   0  @USER She should ask a few native Americans wh...  ['offensive']\n",
       "1   1  @USER @USER Go home you’re drunk!!! @USER #MAG...  ['offensive']\n",
       "2   2  Amazon is investigating Chinese employees who ...       ['none']\n",
       "3   3  @USER Someone should'veTaken\" this piece of sh...  ['offensive']\n",
       "4   4  @USER @USER Obama wanted liberals &amp; illega...       ['none']"
      ]
     },
     "execution_count": 77,
     "metadata": {},
     "output_type": "execute_result"
    }
   ],
   "source": [
    "\n",
    "# Dataset 1. Zampieri2019: Offensive Posts in Social Media\n",
    "  \n",
    "# this dataset has only two labels so I used risky and non-risky (no potentially risky sentence)\n",
    "df = pd.read_csv(\"./veer_sub/zampieri2019/zampieri2019en.csv\", sep=\"\\t\") \n",
    "df.head()\n"
   ]
  },
  {
   "cell_type": "code",
   "execution_count": 78,
   "metadata": {},
   "outputs": [
    {
     "data": {
      "text/plain": [
       "['none']         8840\n",
       "['offensive']    4400\n",
       "Name: labels, dtype: int64"
      ]
     },
     "execution_count": 78,
     "metadata": {},
     "output_type": "execute_result"
    }
   ],
   "source": [
    "df['labels'].value_counts()"
   ]
  },
  {
   "cell_type": "code",
   "execution_count": 79,
   "metadata": {},
   "outputs": [
    {
     "data": {
      "text/html": [
       "<div>\n",
       "<style scoped>\n",
       "    .dataframe tbody tr th:only-of-type {\n",
       "        vertical-align: middle;\n",
       "    }\n",
       "\n",
       "    .dataframe tbody tr th {\n",
       "        vertical-align: top;\n",
       "    }\n",
       "\n",
       "    .dataframe thead th {\n",
       "        text-align: right;\n",
       "    }\n",
       "</style>\n",
       "<table border=\"1\" class=\"dataframe\">\n",
       "  <thead>\n",
       "    <tr style=\"text-align: right;\">\n",
       "      <th></th>\n",
       "      <th>id</th>\n",
       "      <th>text</th>\n",
       "      <th>labels</th>\n",
       "      <th>new_labels</th>\n",
       "    </tr>\n",
       "  </thead>\n",
       "  <tbody>\n",
       "    <tr>\n",
       "      <th>0</th>\n",
       "      <td>0</td>\n",
       "      <td>@USER She should ask a few native Americans wh...</td>\n",
       "      <td>['offensive']</td>\n",
       "      <td>too risky</td>\n",
       "    </tr>\n",
       "    <tr>\n",
       "      <th>1</th>\n",
       "      <td>1</td>\n",
       "      <td>@USER @USER Go home you’re drunk!!! @USER #MAG...</td>\n",
       "      <td>['offensive']</td>\n",
       "      <td>too risky</td>\n",
       "    </tr>\n",
       "    <tr>\n",
       "      <th>2</th>\n",
       "      <td>2</td>\n",
       "      <td>Amazon is investigating Chinese employees who ...</td>\n",
       "      <td>['none']</td>\n",
       "      <td>non risky</td>\n",
       "    </tr>\n",
       "    <tr>\n",
       "      <th>3</th>\n",
       "      <td>3</td>\n",
       "      <td>@USER Someone should'veTaken\" this piece of sh...</td>\n",
       "      <td>['offensive']</td>\n",
       "      <td>too risky</td>\n",
       "    </tr>\n",
       "    <tr>\n",
       "      <th>4</th>\n",
       "      <td>4</td>\n",
       "      <td>@USER @USER Obama wanted liberals &amp;amp; illega...</td>\n",
       "      <td>['none']</td>\n",
       "      <td>non risky</td>\n",
       "    </tr>\n",
       "  </tbody>\n",
       "</table>\n",
       "</div>"
      ],
      "text/plain": [
       "   id                                               text         labels  \\\n",
       "0   0  @USER She should ask a few native Americans wh...  ['offensive']   \n",
       "1   1  @USER @USER Go home you’re drunk!!! @USER #MAG...  ['offensive']   \n",
       "2   2  Amazon is investigating Chinese employees who ...       ['none']   \n",
       "3   3  @USER Someone should'veTaken\" this piece of sh...  ['offensive']   \n",
       "4   4  @USER @USER Obama wanted liberals &amp; illega...       ['none']   \n",
       "\n",
       "  new_labels  \n",
       "0  too risky  \n",
       "1  too risky  \n",
       "2  non risky  \n",
       "3  too risky  \n",
       "4  non risky  "
      ]
     },
     "execution_count": 79,
     "metadata": {},
     "output_type": "execute_result"
    }
   ],
   "source": [
    "# Create new labels in the cleaned_dataset colunm\n",
    "\n",
    "df['new_labels'] = df['labels'].replace({\"['offensive']\":'too risky', \"['none']\" : \"non risky\"})\n",
    "df.head()\n"
   ]
  },
  {
   "cell_type": "code",
   "execution_count": 80,
   "metadata": {},
   "outputs": [
    {
     "data": {
      "text/html": [
       "<div>\n",
       "<style scoped>\n",
       "    .dataframe tbody tr th:only-of-type {\n",
       "        vertical-align: middle;\n",
       "    }\n",
       "\n",
       "    .dataframe tbody tr th {\n",
       "        vertical-align: top;\n",
       "    }\n",
       "\n",
       "    .dataframe thead th {\n",
       "        text-align: right;\n",
       "    }\n",
       "</style>\n",
       "<table border=\"1\" class=\"dataframe\">\n",
       "  <thead>\n",
       "    <tr style=\"text-align: right;\">\n",
       "      <th></th>\n",
       "      <th>id</th>\n",
       "      <th>text</th>\n",
       "      <th>labels</th>\n",
       "      <th>new_labels</th>\n",
       "      <th>numeric_labels</th>\n",
       "    </tr>\n",
       "  </thead>\n",
       "  <tbody>\n",
       "    <tr>\n",
       "      <th>0</th>\n",
       "      <td>0</td>\n",
       "      <td>@USER She should ask a few native Americans wh...</td>\n",
       "      <td>['offensive']</td>\n",
       "      <td>too risky</td>\n",
       "      <td>2</td>\n",
       "    </tr>\n",
       "    <tr>\n",
       "      <th>1</th>\n",
       "      <td>1</td>\n",
       "      <td>@USER @USER Go home you’re drunk!!! @USER #MAG...</td>\n",
       "      <td>['offensive']</td>\n",
       "      <td>too risky</td>\n",
       "      <td>2</td>\n",
       "    </tr>\n",
       "    <tr>\n",
       "      <th>2</th>\n",
       "      <td>2</td>\n",
       "      <td>Amazon is investigating Chinese employees who ...</td>\n",
       "      <td>['none']</td>\n",
       "      <td>non risky</td>\n",
       "      <td>0</td>\n",
       "    </tr>\n",
       "    <tr>\n",
       "      <th>3</th>\n",
       "      <td>3</td>\n",
       "      <td>@USER Someone should'veTaken\" this piece of sh...</td>\n",
       "      <td>['offensive']</td>\n",
       "      <td>too risky</td>\n",
       "      <td>2</td>\n",
       "    </tr>\n",
       "    <tr>\n",
       "      <th>4</th>\n",
       "      <td>4</td>\n",
       "      <td>@USER @USER Obama wanted liberals &amp;amp; illega...</td>\n",
       "      <td>['none']</td>\n",
       "      <td>non risky</td>\n",
       "      <td>0</td>\n",
       "    </tr>\n",
       "  </tbody>\n",
       "</table>\n",
       "</div>"
      ],
      "text/plain": [
       "   id                                               text         labels  \\\n",
       "0   0  @USER She should ask a few native Americans wh...  ['offensive']   \n",
       "1   1  @USER @USER Go home you’re drunk!!! @USER #MAG...  ['offensive']   \n",
       "2   2  Amazon is investigating Chinese employees who ...       ['none']   \n",
       "3   3  @USER Someone should'veTaken\" this piece of sh...  ['offensive']   \n",
       "4   4  @USER @USER Obama wanted liberals &amp; illega...       ['none']   \n",
       "\n",
       "  new_labels numeric_labels  \n",
       "0  too risky              2  \n",
       "1  too risky              2  \n",
       "2  non risky              0  \n",
       "3  too risky              2  \n",
       "4  non risky              0  "
      ]
     },
     "execution_count": 80,
     "metadata": {},
     "output_type": "execute_result"
    }
   ],
   "source": [
    "\n",
    "#convert labels into numerical format as \n",
    "df['numeric_labels'] = df['new_labels'].replace({\"non risky\":'0',\"too risky\":'2'})\n",
    "df.head()\n"
   ]
  },
  {
   "cell_type": "code",
   "execution_count": 81,
   "metadata": {},
   "outputs": [
    {
     "name": "stdout",
     "output_type": "stream",
     "text": [
      "how many missing value in the dataset 0\n"
     ]
    }
   ],
   "source": [
    "\n",
    "# Cleaning Sentence\n",
    "df.isnull().sum() # checking for null values # Identify null rows or zero in the dataset\n",
    "df.dropna(axis=0,inplace=True) # dropping null from dataset\n",
    "print(f\"how many missing value in the dataset {df.isnull().any().sum()}\")"
   ]
  },
  {
   "cell_type": "code",
   "execution_count": 82,
   "metadata": {},
   "outputs": [],
   "source": [
    "def extract_emojis(s):\n",
    "    \"\"\"Checks if there are any emojis present and removes them from the input text\n",
    "\n",
    "    Args:\n",
    "        s (pandas series): column containing the texts\n",
    "    Returns:\n",
    "        result (str) : input text with emojis removed\n",
    "    \"\"\"\n",
    "    # Initialize an empty string to store the text without emojis\n",
    "    result = ''\n",
    "\n",
    "    # Iterate over each character in the input text\n",
    "    for c in s:\n",
    "        # Check if the character is an emoji by using the `in` operator with `emoji.EMOJI_DATA`\n",
    "        if c not in emoji.EMOJI_DATA:\n",
    "            # If the character is not an emoji, append it to the `result` string\n",
    "            result += c\n",
    "    \n",
    "    # Return the final `result` string with emojis removed\n",
    "    return result"
   ]
  },
  {
   "cell_type": "code",
   "execution_count": 83,
   "metadata": {},
   "outputs": [],
   "source": [
    "df['text'] = df['text'].apply(extract_emojis)"
   ]
  },
  {
   "cell_type": "code",
   "execution_count": 84,
   "metadata": {},
   "outputs": [],
   "source": [
    "# Sentence cleaning using RegX\n",
    "def clean_text(text):\n",
    "\n",
    "    text = re.sub('\\d+','', text)  # Remove digits from the text\n",
    "    text = re.sub('&amp;',' ',text) # Replace '&amp;' with a space\n",
    "    text = re.sub('URL',' ',text) # Replace 'URL' with a space\n",
    "    text = re.sub('[^a-zA-Z]+', ' ', text)  # Remove non-alphabetic characters and replace them with a space\n",
    "    text = re.sub('/(\\s\\s\\s*)/g', ' ',text) # Replace consecutive spaces with a single space;\\s represents a whitespace character (e.g., space, tab, newline).\n",
    "    text = re.sub('https?://\\S+|www\\.\\S+', '', text) # Remove URLs starting with 'http', 'https', or 'www'\n",
    "    text = re.sub('USER','',text)  # Replace 'USER' with an empty space\n",
    "    return text\n",
    "\n"
   ]
  },
  {
   "cell_type": "code",
   "execution_count": 85,
   "metadata": {},
   "outputs": [
    {
     "data": {
      "text/html": [
       "<div>\n",
       "<style scoped>\n",
       "    .dataframe tbody tr th:only-of-type {\n",
       "        vertical-align: middle;\n",
       "    }\n",
       "\n",
       "    .dataframe tbody tr th {\n",
       "        vertical-align: top;\n",
       "    }\n",
       "\n",
       "    .dataframe thead th {\n",
       "        text-align: right;\n",
       "    }\n",
       "</style>\n",
       "<table border=\"1\" class=\"dataframe\">\n",
       "  <thead>\n",
       "    <tr style=\"text-align: right;\">\n",
       "      <th></th>\n",
       "      <th>id</th>\n",
       "      <th>text</th>\n",
       "      <th>labels</th>\n",
       "      <th>new_labels</th>\n",
       "      <th>numeric_labels</th>\n",
       "      <th>cleaned_texts</th>\n",
       "    </tr>\n",
       "  </thead>\n",
       "  <tbody>\n",
       "    <tr>\n",
       "      <th>0</th>\n",
       "      <td>0</td>\n",
       "      <td>@USER She should ask a few native Americans wh...</td>\n",
       "      <td>['offensive']</td>\n",
       "      <td>too risky</td>\n",
       "      <td>2</td>\n",
       "      <td>She should ask a few native Americans what t...</td>\n",
       "    </tr>\n",
       "    <tr>\n",
       "      <th>1</th>\n",
       "      <td>1</td>\n",
       "      <td>@USER @USER Go home you’re drunk!!! @USER #MAG...</td>\n",
       "      <td>['offensive']</td>\n",
       "      <td>too risky</td>\n",
       "      <td>2</td>\n",
       "      <td>Go home you re drunk  MAGA Trump</td>\n",
       "    </tr>\n",
       "    <tr>\n",
       "      <th>2</th>\n",
       "      <td>2</td>\n",
       "      <td>Amazon is investigating Chinese employees who ...</td>\n",
       "      <td>['none']</td>\n",
       "      <td>non risky</td>\n",
       "      <td>0</td>\n",
       "      <td>Amazon is investigating Chinese employees who ...</td>\n",
       "    </tr>\n",
       "    <tr>\n",
       "      <th>3</th>\n",
       "      <td>3</td>\n",
       "      <td>@USER Someone should'veTaken\" this piece of sh...</td>\n",
       "      <td>['offensive']</td>\n",
       "      <td>too risky</td>\n",
       "      <td>2</td>\n",
       "      <td>Someone should veTaken this piece of shit to...</td>\n",
       "    </tr>\n",
       "    <tr>\n",
       "      <th>4</th>\n",
       "      <td>4</td>\n",
       "      <td>@USER @USER Obama wanted liberals &amp;amp; illega...</td>\n",
       "      <td>['none']</td>\n",
       "      <td>non risky</td>\n",
       "      <td>0</td>\n",
       "      <td>Obama wanted liberals illegals to move into...</td>\n",
       "    </tr>\n",
       "  </tbody>\n",
       "</table>\n",
       "</div>"
      ],
      "text/plain": [
       "   id                                               text         labels  \\\n",
       "0   0  @USER She should ask a few native Americans wh...  ['offensive']   \n",
       "1   1  @USER @USER Go home you’re drunk!!! @USER #MAG...  ['offensive']   \n",
       "2   2  Amazon is investigating Chinese employees who ...       ['none']   \n",
       "3   3  @USER Someone should'veTaken\" this piece of sh...  ['offensive']   \n",
       "4   4  @USER @USER Obama wanted liberals &amp; illega...       ['none']   \n",
       "\n",
       "  new_labels numeric_labels                                      cleaned_texts  \n",
       "0  too risky              2    She should ask a few native Americans what t...  \n",
       "1  too risky              2                  Go home you re drunk  MAGA Trump   \n",
       "2  non risky              0  Amazon is investigating Chinese employees who ...  \n",
       "3  too risky              2    Someone should veTaken this piece of shit to...  \n",
       "4  non risky              0     Obama wanted liberals illegals to move into...  "
      ]
     },
     "execution_count": 85,
     "metadata": {},
     "output_type": "execute_result"
    }
   ],
   "source": [
    "df['cleaned_texts'] = df['text'].apply(clean_text)\n",
    "df.head()"
   ]
  },
  {
   "cell_type": "code",
   "execution_count": 86,
   "metadata": {},
   "outputs": [],
   "source": [
    "#instantiate lemmatizer\n",
    "lemmatizer = WordNetLemmatizer()"
   ]
  },
  {
   "cell_type": "code",
   "execution_count": 87,
   "metadata": {},
   "outputs": [],
   "source": [
    "#select only the cleaned_texts column\n",
    "texts = df['cleaned_texts']\n",
    "#convert to dataframe\n",
    "texts = pd.DataFrame(texts)\n",
    "#create empty list to hold the final output\n",
    "corpus = []\n",
    "#loop through each row of comments\n",
    "for i in range(0, len(texts)):\n",
    "    #tokenize the text\n",
    "    review = texts['cleaned_texts'][i].split()\n",
    "    #remove stopwords and lemmatize\n",
    "    text_stopwords_lemmatized = [lemmatizer.lemmatize(word) for word in review if not word.lower() in stopwords.words('english')]\n",
    "    #combine the tokenized texts\n",
    "    text_stopwords_lemmatized = ' '.join(text_stopwords_lemmatized)\n",
    "    #put final result into the corpus list\n",
    "    corpus.append(text_stopwords_lemmatized)"
   ]
  },
  {
   "cell_type": "code",
   "execution_count": 88,
   "metadata": {},
   "outputs": [],
   "source": [
    "#create dataframe with the appropriate name as accoridng to repo guidelines\n",
    "corpus = pd.DataFrame(corpus, columns=['clean_sentence_training'])"
   ]
  },
  {
   "cell_type": "code",
   "execution_count": 89,
   "metadata": {},
   "outputs": [],
   "source": [
    "#merge the main dataframe with the cleaned one\n",
    "df = pd.concat([df, corpus], axis=1)"
   ]
  },
  {
   "cell_type": "code",
   "execution_count": 90,
   "metadata": {},
   "outputs": [
    {
     "data": {
      "text/html": [
       "<div>\n",
       "<style scoped>\n",
       "    .dataframe tbody tr th:only-of-type {\n",
       "        vertical-align: middle;\n",
       "    }\n",
       "\n",
       "    .dataframe tbody tr th {\n",
       "        vertical-align: top;\n",
       "    }\n",
       "\n",
       "    .dataframe thead th {\n",
       "        text-align: right;\n",
       "    }\n",
       "</style>\n",
       "<table border=\"1\" class=\"dataframe\">\n",
       "  <thead>\n",
       "    <tr style=\"text-align: right;\">\n",
       "      <th></th>\n",
       "      <th>id</th>\n",
       "      <th>text</th>\n",
       "      <th>labels</th>\n",
       "      <th>new_labels</th>\n",
       "      <th>numeric_labels</th>\n",
       "      <th>cleaned_texts</th>\n",
       "      <th>clean_sentence_training</th>\n",
       "    </tr>\n",
       "  </thead>\n",
       "  <tbody>\n",
       "    <tr>\n",
       "      <th>0</th>\n",
       "      <td>0</td>\n",
       "      <td>@USER She should ask a few native Americans wh...</td>\n",
       "      <td>['offensive']</td>\n",
       "      <td>too risky</td>\n",
       "      <td>2</td>\n",
       "      <td>She should ask a few native Americans what t...</td>\n",
       "      <td>ask native Americans take</td>\n",
       "    </tr>\n",
       "    <tr>\n",
       "      <th>1</th>\n",
       "      <td>1</td>\n",
       "      <td>@USER @USER Go home you’re drunk!!! @USER #MAG...</td>\n",
       "      <td>['offensive']</td>\n",
       "      <td>too risky</td>\n",
       "      <td>2</td>\n",
       "      <td>Go home you re drunk  MAGA Trump</td>\n",
       "      <td>Go home drunk MAGA Trump</td>\n",
       "    </tr>\n",
       "    <tr>\n",
       "      <th>2</th>\n",
       "      <td>2</td>\n",
       "      <td>Amazon is investigating Chinese employees who ...</td>\n",
       "      <td>['none']</td>\n",
       "      <td>non risky</td>\n",
       "      <td>0</td>\n",
       "      <td>Amazon is investigating Chinese employees who ...</td>\n",
       "      <td>Amazon investigating Chinese employee selling ...</td>\n",
       "    </tr>\n",
       "    <tr>\n",
       "      <th>3</th>\n",
       "      <td>3</td>\n",
       "      <td>@USER Someone should'veTaken\" this piece of sh...</td>\n",
       "      <td>['offensive']</td>\n",
       "      <td>too risky</td>\n",
       "      <td>2</td>\n",
       "      <td>Someone should veTaken this piece of shit to...</td>\n",
       "      <td>Someone veTaken piece shit volcano</td>\n",
       "    </tr>\n",
       "    <tr>\n",
       "      <th>4</th>\n",
       "      <td>4</td>\n",
       "      <td>@USER @USER Obama wanted liberals &amp;amp; illega...</td>\n",
       "      <td>['none']</td>\n",
       "      <td>non risky</td>\n",
       "      <td>0</td>\n",
       "      <td>Obama wanted liberals illegals to move into...</td>\n",
       "      <td>Obama wanted liberal illegals move red state</td>\n",
       "    </tr>\n",
       "  </tbody>\n",
       "</table>\n",
       "</div>"
      ],
      "text/plain": [
       "   id                                               text         labels  \\\n",
       "0   0  @USER She should ask a few native Americans wh...  ['offensive']   \n",
       "1   1  @USER @USER Go home you’re drunk!!! @USER #MAG...  ['offensive']   \n",
       "2   2  Amazon is investigating Chinese employees who ...       ['none']   \n",
       "3   3  @USER Someone should'veTaken\" this piece of sh...  ['offensive']   \n",
       "4   4  @USER @USER Obama wanted liberals &amp; illega...       ['none']   \n",
       "\n",
       "  new_labels numeric_labels  \\\n",
       "0  too risky              2   \n",
       "1  too risky              2   \n",
       "2  non risky              0   \n",
       "3  too risky              2   \n",
       "4  non risky              0   \n",
       "\n",
       "                                       cleaned_texts  \\\n",
       "0    She should ask a few native Americans what t...   \n",
       "1                  Go home you re drunk  MAGA Trump    \n",
       "2  Amazon is investigating Chinese employees who ...   \n",
       "3    Someone should veTaken this piece of shit to...   \n",
       "4     Obama wanted liberals illegals to move into...   \n",
       "\n",
       "                             clean_sentence_training  \n",
       "0                          ask native Americans take  \n",
       "1                           Go home drunk MAGA Trump  \n",
       "2  Amazon investigating Chinese employee selling ...  \n",
       "3                 Someone veTaken piece shit volcano  \n",
       "4       Obama wanted liberal illegals move red state  "
      ]
     },
     "execution_count": 90,
     "metadata": {},
     "output_type": "execute_result"
    }
   ],
   "source": [
    "df.head()"
   ]
  },
  {
   "cell_type": "code",
   "execution_count": 91,
   "metadata": {},
   "outputs": [],
   "source": [
    "#rename columns to match the appropriate format requested in the repo\n",
    "df = df.rename(columns={'cleaned_texts':'raw_sentence','numeric_labels':'label'})\n",
    "df['corpus_name'] = 'zampieri2019: Offensive Posts in Social Media'\n",
    "df['clean_sentence_EDA'] = df['clean_sentence_training']"
   ]
  },
  {
   "cell_type": "code",
   "execution_count": 92,
   "metadata": {},
   "outputs": [],
   "source": [
    "#select only relevant columns\n",
    "df = df [['corpus_name','raw_sentence','label','clean_sentence_training','clean_sentence_EDA']]"
   ]
  },
  {
   "cell_type": "code",
   "execution_count": 93,
   "metadata": {},
   "outputs": [],
   "source": [
    "df.to_csv(\"./veer_sub/zampieri2019_offensive_Posts_in_Social_Media.csv\")"
   ]
  },
  {
   "cell_type": "code",
   "execution_count": 94,
   "metadata": {},
   "outputs": [],
   "source": [
    "df=pd.read_csv(\"./veer_sub/zampieri2019_offensive_Posts_in_Social_Media.csv\")\n"
   ]
  },
  {
   "cell_type": "code",
   "execution_count": 95,
   "metadata": {},
   "outputs": [
    {
     "data": {
      "text/html": [
       "<div>\n",
       "<style scoped>\n",
       "    .dataframe tbody tr th:only-of-type {\n",
       "        vertical-align: middle;\n",
       "    }\n",
       "\n",
       "    .dataframe tbody tr th {\n",
       "        vertical-align: top;\n",
       "    }\n",
       "\n",
       "    .dataframe thead th {\n",
       "        text-align: right;\n",
       "    }\n",
       "</style>\n",
       "<table border=\"1\" class=\"dataframe\">\n",
       "  <thead>\n",
       "    <tr style=\"text-align: right;\">\n",
       "      <th></th>\n",
       "      <th>Unnamed: 0</th>\n",
       "      <th>corpus_name</th>\n",
       "      <th>raw_sentence</th>\n",
       "      <th>label</th>\n",
       "      <th>clean_sentence_training</th>\n",
       "      <th>clean_sentence_EDA</th>\n",
       "    </tr>\n",
       "  </thead>\n",
       "  <tbody>\n",
       "    <tr>\n",
       "      <th>0</th>\n",
       "      <td>0</td>\n",
       "      <td>zampieri2019: Offensive Posts in Social Media</td>\n",
       "      <td>She should ask a few native Americans what t...</td>\n",
       "      <td>2</td>\n",
       "      <td>ask native Americans take</td>\n",
       "      <td>ask native Americans take</td>\n",
       "    </tr>\n",
       "    <tr>\n",
       "      <th>1</th>\n",
       "      <td>1</td>\n",
       "      <td>zampieri2019: Offensive Posts in Social Media</td>\n",
       "      <td>Go home you re drunk  MAGA Trump</td>\n",
       "      <td>2</td>\n",
       "      <td>Go home drunk MAGA Trump</td>\n",
       "      <td>Go home drunk MAGA Trump</td>\n",
       "    </tr>\n",
       "    <tr>\n",
       "      <th>2</th>\n",
       "      <td>2</td>\n",
       "      <td>zampieri2019: Offensive Posts in Social Media</td>\n",
       "      <td>Amazon is investigating Chinese employees who ...</td>\n",
       "      <td>0</td>\n",
       "      <td>Amazon investigating Chinese employee selling ...</td>\n",
       "      <td>Amazon investigating Chinese employee selling ...</td>\n",
       "    </tr>\n",
       "  </tbody>\n",
       "</table>\n",
       "</div>"
      ],
      "text/plain": [
       "   Unnamed: 0                                    corpus_name  \\\n",
       "0           0  zampieri2019: Offensive Posts in Social Media   \n",
       "1           1  zampieri2019: Offensive Posts in Social Media   \n",
       "2           2  zampieri2019: Offensive Posts in Social Media   \n",
       "\n",
       "                                        raw_sentence  label  \\\n",
       "0    She should ask a few native Americans what t...      2   \n",
       "1                  Go home you re drunk  MAGA Trump       2   \n",
       "2  Amazon is investigating Chinese employees who ...      0   \n",
       "\n",
       "                             clean_sentence_training  \\\n",
       "0                          ask native Americans take   \n",
       "1                           Go home drunk MAGA Trump   \n",
       "2  Amazon investigating Chinese employee selling ...   \n",
       "\n",
       "                                  clean_sentence_EDA  \n",
       "0                          ask native Americans take  \n",
       "1                           Go home drunk MAGA Trump  \n",
       "2  Amazon investigating Chinese employee selling ...  "
      ]
     },
     "execution_count": 95,
     "metadata": {},
     "output_type": "execute_result"
    }
   ],
   "source": [
    "df.head(3)\n"
   ]
  },
  {
   "cell_type": "code",
   "execution_count": 96,
   "metadata": {},
   "outputs": [
    {
     "data": {
      "text/plain": [
       "0    8840\n",
       "2    4400\n",
       "Name: label, dtype: int64"
      ]
     },
     "execution_count": 96,
     "metadata": {},
     "output_type": "execute_result"
    }
   ],
   "source": [
    "df['label'].value_counts()"
   ]
  },
  {
   "cell_type": "code",
   "execution_count": 97,
   "metadata": {},
   "outputs": [
    {
     "data": {
      "text/html": [
       "<div>\n",
       "<style scoped>\n",
       "    .dataframe tbody tr th:only-of-type {\n",
       "        vertical-align: middle;\n",
       "    }\n",
       "\n",
       "    .dataframe tbody tr th {\n",
       "        vertical-align: top;\n",
       "    }\n",
       "\n",
       "    .dataframe thead th {\n",
       "        text-align: right;\n",
       "    }\n",
       "</style>\n",
       "<table border=\"1\" class=\"dataframe\">\n",
       "  <thead>\n",
       "    <tr style=\"text-align: right;\">\n",
       "      <th></th>\n",
       "      <th>Content</th>\n",
       "      <th>Label</th>\n",
       "    </tr>\n",
       "  </thead>\n",
       "  <tbody>\n",
       "    <tr>\n",
       "      <th>0</th>\n",
       "      <td>`- This is not ``creative``.  Those are the di...</td>\n",
       "      <td>0</td>\n",
       "    </tr>\n",
       "    <tr>\n",
       "      <th>1</th>\n",
       "      <td>`  :: the term ``standard model`` is itself le...</td>\n",
       "      <td>0</td>\n",
       "    </tr>\n",
       "    <tr>\n",
       "      <th>2</th>\n",
       "      <td>True or false, the situation as of March 200...</td>\n",
       "      <td>0</td>\n",
       "    </tr>\n",
       "    <tr>\n",
       "      <th>3</th>\n",
       "      <td>Next, maybe you could work on being less cond...</td>\n",
       "      <td>0</td>\n",
       "    </tr>\n",
       "    <tr>\n",
       "      <th>4</th>\n",
       "      <td>This page will need disambiguation.</td>\n",
       "      <td>0</td>\n",
       "    </tr>\n",
       "  </tbody>\n",
       "</table>\n",
       "</div>"
      ],
      "text/plain": [
       "                                             Content  Label\n",
       "0  `- This is not ``creative``.  Those are the di...      0\n",
       "1  `  :: the term ``standard model`` is itself le...      0\n",
       "2    True or false, the situation as of March 200...      0\n",
       "3   Next, maybe you could work on being less cond...      0\n",
       "4               This page will need disambiguation.       0"
      ]
     },
     "execution_count": 97,
     "metadata": {},
     "output_type": "execute_result"
    }
   ],
   "source": [
    "# Dataset 2. Malignant comments clean\n",
    "\n",
    "df2 = pd.read_csv(\"./veer_sub/data_huang_devansh.csv\") # this dataset has only two labels so I used risky and non-risky (no potentially risky sentence)\n",
    "df2.head(5)"
   ]
  },
  {
   "cell_type": "code",
   "execution_count": 98,
   "metadata": {},
   "outputs": [
    {
     "data": {
      "text/plain": [
       "0    708641\n",
       "1    133694\n",
       "Name: Label, dtype: int64"
      ]
     },
     "execution_count": 98,
     "metadata": {},
     "output_type": "execute_result"
    }
   ],
   "source": [
    "df2['Label'].value_counts()"
   ]
  },
  {
   "cell_type": "code",
   "execution_count": 99,
   "metadata": {},
   "outputs": [],
   "source": [
    "df2.rename(columns={'Label': 'labels'}, inplace=True)# reusing the cleaning steps so renaming\n",
    "df2.rename(columns={'Content': 'text'}, inplace=True)# same as above"
   ]
  },
  {
   "cell_type": "code",
   "execution_count": 100,
   "metadata": {},
   "outputs": [
    {
     "data": {
      "text/html": [
       "<div>\n",
       "<style scoped>\n",
       "    .dataframe tbody tr th:only-of-type {\n",
       "        vertical-align: middle;\n",
       "    }\n",
       "\n",
       "    .dataframe tbody tr th {\n",
       "        vertical-align: top;\n",
       "    }\n",
       "\n",
       "    .dataframe thead th {\n",
       "        text-align: right;\n",
       "    }\n",
       "</style>\n",
       "<table border=\"1\" class=\"dataframe\">\n",
       "  <thead>\n",
       "    <tr style=\"text-align: right;\">\n",
       "      <th></th>\n",
       "      <th>text</th>\n",
       "      <th>labels</th>\n",
       "      <th>new_labels</th>\n",
       "    </tr>\n",
       "  </thead>\n",
       "  <tbody>\n",
       "    <tr>\n",
       "      <th>0</th>\n",
       "      <td>`- This is not ``creative``.  Those are the di...</td>\n",
       "      <td>0</td>\n",
       "      <td>0</td>\n",
       "    </tr>\n",
       "    <tr>\n",
       "      <th>1</th>\n",
       "      <td>`  :: the term ``standard model`` is itself le...</td>\n",
       "      <td>0</td>\n",
       "      <td>0</td>\n",
       "    </tr>\n",
       "    <tr>\n",
       "      <th>2</th>\n",
       "      <td>True or false, the situation as of March 200...</td>\n",
       "      <td>0</td>\n",
       "      <td>0</td>\n",
       "    </tr>\n",
       "    <tr>\n",
       "      <th>3</th>\n",
       "      <td>Next, maybe you could work on being less cond...</td>\n",
       "      <td>0</td>\n",
       "      <td>0</td>\n",
       "    </tr>\n",
       "    <tr>\n",
       "      <th>4</th>\n",
       "      <td>This page will need disambiguation.</td>\n",
       "      <td>0</td>\n",
       "      <td>0</td>\n",
       "    </tr>\n",
       "  </tbody>\n",
       "</table>\n",
       "</div>"
      ],
      "text/plain": [
       "                                                text  labels  new_labels\n",
       "0  `- This is not ``creative``.  Those are the di...       0           0\n",
       "1  `  :: the term ``standard model`` is itself le...       0           0\n",
       "2    True or false, the situation as of March 200...       0           0\n",
       "3   Next, maybe you could work on being less cond...       0           0\n",
       "4               This page will need disambiguation.        0           0"
      ]
     },
     "execution_count": 100,
     "metadata": {},
     "output_type": "execute_result"
    }
   ],
   "source": [
    "# Create new labels in the cleaned_dataset colunm\n",
    "\n",
    "df2['new_labels'] = df2['labels'].replace({\"['offensive']\":'too risky', \"['none']\" : \"non risky\"})\n",
    "df2.head()\n"
   ]
  },
  {
   "cell_type": "code",
   "execution_count": 101,
   "metadata": {},
   "outputs": [
    {
     "data": {
      "text/html": [
       "<div>\n",
       "<style scoped>\n",
       "    .dataframe tbody tr th:only-of-type {\n",
       "        vertical-align: middle;\n",
       "    }\n",
       "\n",
       "    .dataframe tbody tr th {\n",
       "        vertical-align: top;\n",
       "    }\n",
       "\n",
       "    .dataframe thead th {\n",
       "        text-align: right;\n",
       "    }\n",
       "</style>\n",
       "<table border=\"1\" class=\"dataframe\">\n",
       "  <thead>\n",
       "    <tr style=\"text-align: right;\">\n",
       "      <th></th>\n",
       "      <th>text</th>\n",
       "      <th>labels</th>\n",
       "      <th>new_labels</th>\n",
       "      <th>numeric_labels</th>\n",
       "    </tr>\n",
       "  </thead>\n",
       "  <tbody>\n",
       "    <tr>\n",
       "      <th>0</th>\n",
       "      <td>`- This is not ``creative``.  Those are the di...</td>\n",
       "      <td>0</td>\n",
       "      <td>0</td>\n",
       "      <td>0</td>\n",
       "    </tr>\n",
       "    <tr>\n",
       "      <th>1</th>\n",
       "      <td>`  :: the term ``standard model`` is itself le...</td>\n",
       "      <td>0</td>\n",
       "      <td>0</td>\n",
       "      <td>0</td>\n",
       "    </tr>\n",
       "    <tr>\n",
       "      <th>2</th>\n",
       "      <td>True or false, the situation as of March 200...</td>\n",
       "      <td>0</td>\n",
       "      <td>0</td>\n",
       "      <td>0</td>\n",
       "    </tr>\n",
       "    <tr>\n",
       "      <th>3</th>\n",
       "      <td>Next, maybe you could work on being less cond...</td>\n",
       "      <td>0</td>\n",
       "      <td>0</td>\n",
       "      <td>0</td>\n",
       "    </tr>\n",
       "    <tr>\n",
       "      <th>4</th>\n",
       "      <td>This page will need disambiguation.</td>\n",
       "      <td>0</td>\n",
       "      <td>0</td>\n",
       "      <td>0</td>\n",
       "    </tr>\n",
       "  </tbody>\n",
       "</table>\n",
       "</div>"
      ],
      "text/plain": [
       "                                                text  labels  new_labels  \\\n",
       "0  `- This is not ``creative``.  Those are the di...       0           0   \n",
       "1  `  :: the term ``standard model`` is itself le...       0           0   \n",
       "2    True or false, the situation as of March 200...       0           0   \n",
       "3   Next, maybe you could work on being less cond...       0           0   \n",
       "4               This page will need disambiguation.        0           0   \n",
       "\n",
       "   numeric_labels  \n",
       "0               0  \n",
       "1               0  \n",
       "2               0  \n",
       "3               0  \n",
       "4               0  "
      ]
     },
     "execution_count": 101,
     "metadata": {},
     "output_type": "execute_result"
    }
   ],
   "source": [
    "\n",
    "#convert labels into numerical format as \n",
    "df2['numeric_labels'] = df2['new_labels'].replace({\"non risky\":'0',\"too risky\":'2'})\n",
    "df2.head()\n"
   ]
  },
  {
   "cell_type": "code",
   "execution_count": 102,
   "metadata": {},
   "outputs": [
    {
     "name": "stdout",
     "output_type": "stream",
     "text": [
      "how many missing value in the dataset 0\n"
     ]
    }
   ],
   "source": [
    "\n",
    "# Cleaning Sentence\n",
    "df2.isnull().sum() # checking for null values # Identify null rows or zero in the dataset\n",
    "df2.dropna(axis=0,inplace=True) # dropping null from dataset\n",
    "print(f\"how many missing value in the dataset {df2.isnull().any().sum()}\")"
   ]
  },
  {
   "cell_type": "code",
   "execution_count": 103,
   "metadata": {},
   "outputs": [],
   "source": [
    "df2= df2[:400000]\n",
    "# orignal dataset had 708641 non risky and 133694 risky comments.\n",
    "# due to limited compute capacity i have reduce the dataset.\n",
    "# There are better way to reduce the dataset using various cross validation technique \n",
    "# but I have not used it in this project. "
   ]
  },
  {
   "cell_type": "code",
   "execution_count": 104,
   "metadata": {},
   "outputs": [
    {
     "data": {
      "text/plain": [
       "0    353480\n",
       "1     46520\n",
       "Name: labels, dtype: int64"
      ]
     },
     "execution_count": 104,
     "metadata": {},
     "output_type": "execute_result"
    }
   ],
   "source": [
    "df2['labels'].value_counts()\n"
   ]
  },
  {
   "cell_type": "code",
   "execution_count": 105,
   "metadata": {},
   "outputs": [],
   "source": [
    "df2['text'] = df2['text'].apply(extract_emojis)"
   ]
  },
  {
   "cell_type": "code",
   "execution_count": 106,
   "metadata": {},
   "outputs": [
    {
     "data": {
      "text/html": [
       "<div>\n",
       "<style scoped>\n",
       "    .dataframe tbody tr th:only-of-type {\n",
       "        vertical-align: middle;\n",
       "    }\n",
       "\n",
       "    .dataframe tbody tr th {\n",
       "        vertical-align: top;\n",
       "    }\n",
       "\n",
       "    .dataframe thead th {\n",
       "        text-align: right;\n",
       "    }\n",
       "</style>\n",
       "<table border=\"1\" class=\"dataframe\">\n",
       "  <thead>\n",
       "    <tr style=\"text-align: right;\">\n",
       "      <th></th>\n",
       "      <th>text</th>\n",
       "      <th>labels</th>\n",
       "      <th>new_labels</th>\n",
       "      <th>numeric_labels</th>\n",
       "      <th>cleaned_texts</th>\n",
       "    </tr>\n",
       "  </thead>\n",
       "  <tbody>\n",
       "    <tr>\n",
       "      <th>0</th>\n",
       "      <td>`- This is not ``creative``.  Those are the di...</td>\n",
       "      <td>0</td>\n",
       "      <td>0</td>\n",
       "      <td>0</td>\n",
       "      <td>This is not creative Those are the dictionary...</td>\n",
       "    </tr>\n",
       "    <tr>\n",
       "      <th>1</th>\n",
       "      <td>`  :: the term ``standard model`` is itself le...</td>\n",
       "      <td>0</td>\n",
       "      <td>0</td>\n",
       "      <td>0</td>\n",
       "      <td>the term standard model is itself less NPOV t...</td>\n",
       "    </tr>\n",
       "    <tr>\n",
       "      <th>2</th>\n",
       "      <td>True or false, the situation as of March 200...</td>\n",
       "      <td>0</td>\n",
       "      <td>0</td>\n",
       "      <td>0</td>\n",
       "      <td>True or false the situation as of March was s...</td>\n",
       "    </tr>\n",
       "    <tr>\n",
       "      <th>3</th>\n",
       "      <td>Next, maybe you could work on being less cond...</td>\n",
       "      <td>0</td>\n",
       "      <td>0</td>\n",
       "      <td>0</td>\n",
       "      <td>Next maybe you could work on being less conde...</td>\n",
       "    </tr>\n",
       "    <tr>\n",
       "      <th>4</th>\n",
       "      <td>This page will need disambiguation.</td>\n",
       "      <td>0</td>\n",
       "      <td>0</td>\n",
       "      <td>0</td>\n",
       "      <td>This page will need disambiguation</td>\n",
       "    </tr>\n",
       "  </tbody>\n",
       "</table>\n",
       "</div>"
      ],
      "text/plain": [
       "                                                text  labels  new_labels  \\\n",
       "0  `- This is not ``creative``.  Those are the di...       0           0   \n",
       "1  `  :: the term ``standard model`` is itself le...       0           0   \n",
       "2    True or false, the situation as of March 200...       0           0   \n",
       "3   Next, maybe you could work on being less cond...       0           0   \n",
       "4               This page will need disambiguation.        0           0   \n",
       "\n",
       "   numeric_labels                                      cleaned_texts  \n",
       "0               0   This is not creative Those are the dictionary...  \n",
       "1               0   the term standard model is itself less NPOV t...  \n",
       "2               0   True or false the situation as of March was s...  \n",
       "3               0   Next maybe you could work on being less conde...  \n",
       "4               0                This page will need disambiguation   "
      ]
     },
     "execution_count": 106,
     "metadata": {},
     "output_type": "execute_result"
    }
   ],
   "source": [
    "df2['cleaned_texts'] = df2['text'].apply(clean_text)\n",
    "df2.head()"
   ]
  },
  {
   "cell_type": "code",
   "execution_count": 107,
   "metadata": {},
   "outputs": [],
   "source": [
    "#select only the cleaned_texts column\n",
    "texts = df2['cleaned_texts']\n",
    "#convert to dataframe\n",
    "texts = pd.DataFrame(texts)\n",
    "#create empty list to hold the final output\n",
    "corpus = []\n",
    "#loop through each row of comments\n",
    "for i in range(0, len(texts)):\n",
    "    #tokenize the text\n",
    "    review = texts['cleaned_texts'][i].split()\n",
    "    #remove stopwords and lemmatize\n",
    "    text_stopwords_lemmatized = [lemmatizer.lemmatize(word) for word in review if not word.lower() in stopwords.words('english')]\n",
    "    #combine the tokenized texts\n",
    "    text_stopwords_lemmatized = ' '.join(text_stopwords_lemmatized)\n",
    "    #put final result into the corpus list\n",
    "    corpus.append(text_stopwords_lemmatized)"
   ]
  },
  {
   "cell_type": "code",
   "execution_count": 108,
   "metadata": {},
   "outputs": [],
   "source": [
    "#create dataframe with the appropriate name as according to repo guidelines\n",
    "corpus = pd.DataFrame(corpus, columns=['clean_sentence_training'])"
   ]
  },
  {
   "cell_type": "code",
   "execution_count": 109,
   "metadata": {},
   "outputs": [],
   "source": [
    "#merge the main dataframe with the cleaned one\n",
    "df2 = pd.concat([df2, corpus], axis=1)"
   ]
  },
  {
   "cell_type": "code",
   "execution_count": 110,
   "metadata": {},
   "outputs": [],
   "source": [
    "#rename columns to match the appropriate format requested in the repo\n",
    "df2 = df2.rename(columns={'cleaned_texts':'raw_sentence','numeric_labels':'label'})\n",
    "df2['corpus_name'] = 'Malignant Comments Clean'\n",
    "df2['clean_sentence_EDA'] = df2['clean_sentence_training']"
   ]
  },
  {
   "cell_type": "code",
   "execution_count": 111,
   "metadata": {},
   "outputs": [],
   "source": [
    "#select only relevant columns\n",
    "df2 = df2 [['corpus_name','raw_sentence','label','clean_sentence_training','clean_sentence_EDA']]"
   ]
  },
  {
   "cell_type": "code",
   "execution_count": 112,
   "metadata": {},
   "outputs": [],
   "source": [
    "df2.to_csv(\"./veer_sub/malignant_comments_clean.csv\")"
   ]
  },
  {
   "cell_type": "code",
   "execution_count": 113,
   "metadata": {},
   "outputs": [],
   "source": [
    "df2 = pd.read_csv(\"./veer_sub/malignant_comments_clean.csv\")"
   ]
  },
  {
   "cell_type": "code",
   "execution_count": 114,
   "metadata": {},
   "outputs": [
    {
     "data": {
      "text/html": [
       "<div>\n",
       "<style scoped>\n",
       "    .dataframe tbody tr th:only-of-type {\n",
       "        vertical-align: middle;\n",
       "    }\n",
       "\n",
       "    .dataframe tbody tr th {\n",
       "        vertical-align: top;\n",
       "    }\n",
       "\n",
       "    .dataframe thead th {\n",
       "        text-align: right;\n",
       "    }\n",
       "</style>\n",
       "<table border=\"1\" class=\"dataframe\">\n",
       "  <thead>\n",
       "    <tr style=\"text-align: right;\">\n",
       "      <th></th>\n",
       "      <th>Unnamed: 0</th>\n",
       "      <th>corpus_name</th>\n",
       "      <th>raw_sentence</th>\n",
       "      <th>label</th>\n",
       "      <th>clean_sentence_training</th>\n",
       "      <th>clean_sentence_EDA</th>\n",
       "    </tr>\n",
       "  </thead>\n",
       "  <tbody>\n",
       "    <tr>\n",
       "      <th>0</th>\n",
       "      <td>0</td>\n",
       "      <td>Malignant Comments Clean</td>\n",
       "      <td>This is not creative Those are the dictionary...</td>\n",
       "      <td>0</td>\n",
       "      <td>creative dictionary definition term insurance ...</td>\n",
       "      <td>creative dictionary definition term insurance ...</td>\n",
       "    </tr>\n",
       "    <tr>\n",
       "      <th>1</th>\n",
       "      <td>1</td>\n",
       "      <td>Malignant Comments Clean</td>\n",
       "      <td>the term standard model is itself less NPOV t...</td>\n",
       "      <td>0</td>\n",
       "      <td>term standard model le NPOV think prefer new a...</td>\n",
       "      <td>term standard model le NPOV think prefer new a...</td>\n",
       "    </tr>\n",
       "    <tr>\n",
       "      <th>2</th>\n",
       "      <td>2</td>\n",
       "      <td>Malignant Comments Clean</td>\n",
       "      <td>True or false the situation as of March was s...</td>\n",
       "      <td>0</td>\n",
       "      <td>True false situation March Saudi proposal Land...</td>\n",
       "      <td>True false situation March Saudi proposal Land...</td>\n",
       "    </tr>\n",
       "  </tbody>\n",
       "</table>\n",
       "</div>"
      ],
      "text/plain": [
       "   Unnamed: 0               corpus_name  \\\n",
       "0           0  Malignant Comments Clean   \n",
       "1           1  Malignant Comments Clean   \n",
       "2           2  Malignant Comments Clean   \n",
       "\n",
       "                                        raw_sentence  label  \\\n",
       "0   This is not creative Those are the dictionary...      0   \n",
       "1   the term standard model is itself less NPOV t...      0   \n",
       "2   True or false the situation as of March was s...      0   \n",
       "\n",
       "                             clean_sentence_training  \\\n",
       "0  creative dictionary definition term insurance ...   \n",
       "1  term standard model le NPOV think prefer new a...   \n",
       "2  True false situation March Saudi proposal Land...   \n",
       "\n",
       "                                  clean_sentence_EDA  \n",
       "0  creative dictionary definition term insurance ...  \n",
       "1  term standard model le NPOV think prefer new a...  \n",
       "2  True false situation March Saudi proposal Land...  "
      ]
     },
     "execution_count": 114,
     "metadata": {},
     "output_type": "execute_result"
    }
   ],
   "source": [
    "df2.head(3)"
   ]
  },
  {
   "cell_type": "code",
   "execution_count": 115,
   "metadata": {},
   "outputs": [
    {
     "data": {
      "text/plain": [
       "0    353480\n",
       "1     46520\n",
       "Name: label, dtype: int64"
      ]
     },
     "execution_count": 115,
     "metadata": {},
     "output_type": "execute_result"
    }
   ],
   "source": [
    "df2['label'].value_counts()"
   ]
  },
  {
   "cell_type": "code",
   "execution_count": 116,
   "metadata": {},
   "outputs": [
    {
     "data": {
      "text/html": [
       "<div>\n",
       "<style scoped>\n",
       "    .dataframe tbody tr th:only-of-type {\n",
       "        vertical-align: middle;\n",
       "    }\n",
       "\n",
       "    .dataframe tbody tr th {\n",
       "        vertical-align: top;\n",
       "    }\n",
       "\n",
       "    .dataframe thead th {\n",
       "        text-align: right;\n",
       "    }\n",
       "</style>\n",
       "<table border=\"1\" class=\"dataframe\">\n",
       "  <thead>\n",
       "    <tr style=\"text-align: right;\">\n",
       "      <th></th>\n",
       "      <th>Unnamed: 0</th>\n",
       "      <th>corpus_name</th>\n",
       "      <th>raw_sentence</th>\n",
       "      <th>label</th>\n",
       "      <th>clean_sentence_training</th>\n",
       "      <th>clean_sentence_EDA</th>\n",
       "    </tr>\n",
       "  </thead>\n",
       "  <tbody>\n",
       "    <tr>\n",
       "      <th>0</th>\n",
       "      <td>0</td>\n",
       "      <td>zampieri2019: Offensive Posts in Social Media</td>\n",
       "      <td>She should ask a few native Americans what t...</td>\n",
       "      <td>2</td>\n",
       "      <td>ask native Americans take</td>\n",
       "      <td>ask native Americans take</td>\n",
       "    </tr>\n",
       "    <tr>\n",
       "      <th>1</th>\n",
       "      <td>1</td>\n",
       "      <td>zampieri2019: Offensive Posts in Social Media</td>\n",
       "      <td>Go home you re drunk  MAGA Trump</td>\n",
       "      <td>2</td>\n",
       "      <td>Go home drunk MAGA Trump</td>\n",
       "      <td>Go home drunk MAGA Trump</td>\n",
       "    </tr>\n",
       "    <tr>\n",
       "      <th>2</th>\n",
       "      <td>2</td>\n",
       "      <td>zampieri2019: Offensive Posts in Social Media</td>\n",
       "      <td>Amazon is investigating Chinese employees who ...</td>\n",
       "      <td>0</td>\n",
       "      <td>Amazon investigating Chinese employee selling ...</td>\n",
       "      <td>Amazon investigating Chinese employee selling ...</td>\n",
       "    </tr>\n",
       "  </tbody>\n",
       "</table>\n",
       "</div>"
      ],
      "text/plain": [
       "   Unnamed: 0                                    corpus_name  \\\n",
       "0           0  zampieri2019: Offensive Posts in Social Media   \n",
       "1           1  zampieri2019: Offensive Posts in Social Media   \n",
       "2           2  zampieri2019: Offensive Posts in Social Media   \n",
       "\n",
       "                                        raw_sentence  label  \\\n",
       "0    She should ask a few native Americans what t...      2   \n",
       "1                  Go home you re drunk  MAGA Trump       2   \n",
       "2  Amazon is investigating Chinese employees who ...      0   \n",
       "\n",
       "                             clean_sentence_training  \\\n",
       "0                          ask native Americans take   \n",
       "1                           Go home drunk MAGA Trump   \n",
       "2  Amazon investigating Chinese employee selling ...   \n",
       "\n",
       "                                  clean_sentence_EDA  \n",
       "0                          ask native Americans take  \n",
       "1                           Go home drunk MAGA Trump  \n",
       "2  Amazon investigating Chinese employee selling ...  "
      ]
     },
     "execution_count": 116,
     "metadata": {},
     "output_type": "execute_result"
    }
   ],
   "source": [
    "df.head(3)"
   ]
  },
  {
   "cell_type": "code",
   "execution_count": 117,
   "metadata": {},
   "outputs": [
    {
     "data": {
      "text/plain": [
       "0    8840\n",
       "2    4400\n",
       "Name: label, dtype: int64"
      ]
     },
     "execution_count": 117,
     "metadata": {},
     "output_type": "execute_result"
    }
   ],
   "source": [
    "df['label'].value_counts()"
   ]
  },
  {
   "cell_type": "code",
   "execution_count": 118,
   "metadata": {},
   "outputs": [
    {
     "data": {
      "text/html": [
       "<div>\n",
       "<style scoped>\n",
       "    .dataframe tbody tr th:only-of-type {\n",
       "        vertical-align: middle;\n",
       "    }\n",
       "\n",
       "    .dataframe tbody tr th {\n",
       "        vertical-align: top;\n",
       "    }\n",
       "\n",
       "    .dataframe thead th {\n",
       "        text-align: right;\n",
       "    }\n",
       "</style>\n",
       "<table border=\"1\" class=\"dataframe\">\n",
       "  <thead>\n",
       "    <tr style=\"text-align: right;\">\n",
       "      <th></th>\n",
       "      <th>Unnamed: 0</th>\n",
       "      <th>corpus_name</th>\n",
       "      <th>raw_sentence</th>\n",
       "      <th>label</th>\n",
       "      <th>clean_sentence_training</th>\n",
       "      <th>clean_sentence_EDA</th>\n",
       "    </tr>\n",
       "  </thead>\n",
       "  <tbody>\n",
       "    <tr>\n",
       "      <th>0</th>\n",
       "      <td>0</td>\n",
       "      <td>zampieri2019: Offensive Posts in Social Media</td>\n",
       "      <td>She should ask a few native Americans what t...</td>\n",
       "      <td>2</td>\n",
       "      <td>ask native Americans take</td>\n",
       "      <td>ask native Americans take</td>\n",
       "    </tr>\n",
       "    <tr>\n",
       "      <th>1</th>\n",
       "      <td>1</td>\n",
       "      <td>zampieri2019: Offensive Posts in Social Media</td>\n",
       "      <td>Go home you re drunk  MAGA Trump</td>\n",
       "      <td>2</td>\n",
       "      <td>Go home drunk MAGA Trump</td>\n",
       "      <td>Go home drunk MAGA Trump</td>\n",
       "    </tr>\n",
       "    <tr>\n",
       "      <th>2</th>\n",
       "      <td>2</td>\n",
       "      <td>zampieri2019: Offensive Posts in Social Media</td>\n",
       "      <td>Amazon is investigating Chinese employees who ...</td>\n",
       "      <td>0</td>\n",
       "      <td>Amazon investigating Chinese employee selling ...</td>\n",
       "      <td>Amazon investigating Chinese employee selling ...</td>\n",
       "    </tr>\n",
       "    <tr>\n",
       "      <th>3</th>\n",
       "      <td>3</td>\n",
       "      <td>zampieri2019: Offensive Posts in Social Media</td>\n",
       "      <td>Someone should veTaken this piece of shit to...</td>\n",
       "      <td>2</td>\n",
       "      <td>Someone veTaken piece shit volcano</td>\n",
       "      <td>Someone veTaken piece shit volcano</td>\n",
       "    </tr>\n",
       "    <tr>\n",
       "      <th>4</th>\n",
       "      <td>4</td>\n",
       "      <td>zampieri2019: Offensive Posts in Social Media</td>\n",
       "      <td>Obama wanted liberals illegals to move into...</td>\n",
       "      <td>0</td>\n",
       "      <td>Obama wanted liberal illegals move red state</td>\n",
       "      <td>Obama wanted liberal illegals move red state</td>\n",
       "    </tr>\n",
       "  </tbody>\n",
       "</table>\n",
       "</div>"
      ],
      "text/plain": [
       "   Unnamed: 0                                    corpus_name  \\\n",
       "0           0  zampieri2019: Offensive Posts in Social Media   \n",
       "1           1  zampieri2019: Offensive Posts in Social Media   \n",
       "2           2  zampieri2019: Offensive Posts in Social Media   \n",
       "3           3  zampieri2019: Offensive Posts in Social Media   \n",
       "4           4  zampieri2019: Offensive Posts in Social Media   \n",
       "\n",
       "                                        raw_sentence  label  \\\n",
       "0    She should ask a few native Americans what t...      2   \n",
       "1                  Go home you re drunk  MAGA Trump       2   \n",
       "2  Amazon is investigating Chinese employees who ...      0   \n",
       "3    Someone should veTaken this piece of shit to...      2   \n",
       "4     Obama wanted liberals illegals to move into...      0   \n",
       "\n",
       "                             clean_sentence_training  \\\n",
       "0                          ask native Americans take   \n",
       "1                           Go home drunk MAGA Trump   \n",
       "2  Amazon investigating Chinese employee selling ...   \n",
       "3                 Someone veTaken piece shit volcano   \n",
       "4       Obama wanted liberal illegals move red state   \n",
       "\n",
       "                                  clean_sentence_EDA  \n",
       "0                          ask native Americans take  \n",
       "1                           Go home drunk MAGA Trump  \n",
       "2  Amazon investigating Chinese employee selling ...  \n",
       "3                 Someone veTaken piece shit volcano  \n",
       "4       Obama wanted liberal illegals move red state  "
      ]
     },
     "execution_count": 118,
     "metadata": {},
     "output_type": "execute_result"
    }
   ],
   "source": [
    "# Combining the datasets\n",
    "df_combine = pd.concat([df, df2])\n",
    "df_combine.head()"
   ]
  },
  {
   "cell_type": "code",
   "execution_count": 119,
   "metadata": {},
   "outputs": [
    {
     "data": {
      "text/plain": [
       "0    362320\n",
       "1     46520\n",
       "2      4400\n",
       "Name: label, dtype: int64"
      ]
     },
     "execution_count": 119,
     "metadata": {},
     "output_type": "execute_result"
    }
   ],
   "source": [
    "df_combine['label'].value_counts()"
   ]
  },
  {
   "cell_type": "code",
   "execution_count": 120,
   "metadata": {},
   "outputs": [
    {
     "name": "stderr",
     "output_type": "stream",
     "text": [
      "/var/folders/kv/k722s8hj2wg083s_pdd_pqxw0000gn/T/ipykernel_26463/1315090745.py:2: SettingWithCopyWarning: \n",
      "A value is trying to be set on a copy of a slice from a DataFrame\n",
      "\n",
      "See the caveats in the documentation: https://pandas.pydata.org/pandas-docs/stable/user_guide/indexing.html#returning-a-view-versus-a-copy\n",
      "  df_combine['label'][df_combine[\"label\"] == 2] = 1\n"
     ]
    }
   ],
   "source": [
    "# Reassigning label=2 to label=1 as I am only categorizing Risky/Non-Risky\n",
    "df_combine['label'][df_combine[\"label\"] == 2] = 1\n"
   ]
  },
  {
   "cell_type": "code",
   "execution_count": 121,
   "metadata": {},
   "outputs": [
    {
     "data": {
      "text/plain": [
       "0    362320\n",
       "1     50920\n",
       "Name: label, dtype: int64"
      ]
     },
     "execution_count": 121,
     "metadata": {},
     "output_type": "execute_result"
    }
   ],
   "source": [
    "df_combine['label'].value_counts()"
   ]
  },
  {
   "cell_type": "code",
   "execution_count": 122,
   "metadata": {},
   "outputs": [
    {
     "data": {
      "text/plain": [
       "(413240, 6)"
      ]
     },
     "execution_count": 122,
     "metadata": {},
     "output_type": "execute_result"
    }
   ],
   "source": [
    "df_combine.to_csv(\"./veer_sub/combine_clean.csv\")\n",
    "df_combine.shape"
   ]
  },
  {
   "attachments": {},
   "cell_type": "markdown",
   "metadata": {},
   "source": [
    "## Step 2: Exploratory Data Analysis (combine dataset)"
   ]
  },
  {
   "cell_type": "code",
   "execution_count": 123,
   "metadata": {},
   "outputs": [],
   "source": [
    "# Importing key libraries\n",
    "from wordcloud import WordCloud\n",
    "from collections import Counter\n",
    "from matplotlib import pyplot as plt\n",
    "from yellowbrick.text import FreqDistVisualizer\n",
    "from sklearn.feature_extraction.text import CountVectorizer\n",
    "import seaborn as sns\n",
    "import matplotlib.pyplot as plt"
   ]
  },
  {
   "cell_type": "code",
   "execution_count": 124,
   "metadata": {},
   "outputs": [
    {
     "data": {
      "text/html": [
       "<div>\n",
       "<style scoped>\n",
       "    .dataframe tbody tr th:only-of-type {\n",
       "        vertical-align: middle;\n",
       "    }\n",
       "\n",
       "    .dataframe tbody tr th {\n",
       "        vertical-align: top;\n",
       "    }\n",
       "\n",
       "    .dataframe thead th {\n",
       "        text-align: right;\n",
       "    }\n",
       "</style>\n",
       "<table border=\"1\" class=\"dataframe\">\n",
       "  <thead>\n",
       "    <tr style=\"text-align: right;\">\n",
       "      <th></th>\n",
       "      <th>Unnamed: 0.1</th>\n",
       "      <th>Unnamed: 0</th>\n",
       "      <th>corpus_name</th>\n",
       "      <th>raw_sentence</th>\n",
       "      <th>label</th>\n",
       "      <th>clean_sentence_training</th>\n",
       "      <th>clean_sentence_EDA</th>\n",
       "    </tr>\n",
       "  </thead>\n",
       "  <tbody>\n",
       "    <tr>\n",
       "      <th>0</th>\n",
       "      <td>0</td>\n",
       "      <td>0</td>\n",
       "      <td>zampieri2019: Offensive Posts in Social Media</td>\n",
       "      <td>She should ask a few native Americans what t...</td>\n",
       "      <td>1</td>\n",
       "      <td>ask native Americans take</td>\n",
       "      <td>ask native Americans take</td>\n",
       "    </tr>\n",
       "    <tr>\n",
       "      <th>1</th>\n",
       "      <td>1</td>\n",
       "      <td>1</td>\n",
       "      <td>zampieri2019: Offensive Posts in Social Media</td>\n",
       "      <td>Go home you re drunk  MAGA Trump</td>\n",
       "      <td>1</td>\n",
       "      <td>Go home drunk MAGA Trump</td>\n",
       "      <td>Go home drunk MAGA Trump</td>\n",
       "    </tr>\n",
       "    <tr>\n",
       "      <th>2</th>\n",
       "      <td>2</td>\n",
       "      <td>2</td>\n",
       "      <td>zampieri2019: Offensive Posts in Social Media</td>\n",
       "      <td>Amazon is investigating Chinese employees who ...</td>\n",
       "      <td>0</td>\n",
       "      <td>Amazon investigating Chinese employee selling ...</td>\n",
       "      <td>Amazon investigating Chinese employee selling ...</td>\n",
       "    </tr>\n",
       "    <tr>\n",
       "      <th>3</th>\n",
       "      <td>3</td>\n",
       "      <td>3</td>\n",
       "      <td>zampieri2019: Offensive Posts in Social Media</td>\n",
       "      <td>Someone should veTaken this piece of shit to...</td>\n",
       "      <td>1</td>\n",
       "      <td>Someone veTaken piece shit volcano</td>\n",
       "      <td>Someone veTaken piece shit volcano</td>\n",
       "    </tr>\n",
       "    <tr>\n",
       "      <th>4</th>\n",
       "      <td>4</td>\n",
       "      <td>4</td>\n",
       "      <td>zampieri2019: Offensive Posts in Social Media</td>\n",
       "      <td>Obama wanted liberals illegals to move into...</td>\n",
       "      <td>0</td>\n",
       "      <td>Obama wanted liberal illegals move red state</td>\n",
       "      <td>Obama wanted liberal illegals move red state</td>\n",
       "    </tr>\n",
       "  </tbody>\n",
       "</table>\n",
       "</div>"
      ],
      "text/plain": [
       "   Unnamed: 0.1  Unnamed: 0                                    corpus_name  \\\n",
       "0             0           0  zampieri2019: Offensive Posts in Social Media   \n",
       "1             1           1  zampieri2019: Offensive Posts in Social Media   \n",
       "2             2           2  zampieri2019: Offensive Posts in Social Media   \n",
       "3             3           3  zampieri2019: Offensive Posts in Social Media   \n",
       "4             4           4  zampieri2019: Offensive Posts in Social Media   \n",
       "\n",
       "                                        raw_sentence  label  \\\n",
       "0    She should ask a few native Americans what t...      1   \n",
       "1                  Go home you re drunk  MAGA Trump       1   \n",
       "2  Amazon is investigating Chinese employees who ...      0   \n",
       "3    Someone should veTaken this piece of shit to...      1   \n",
       "4     Obama wanted liberals illegals to move into...      0   \n",
       "\n",
       "                             clean_sentence_training  \\\n",
       "0                          ask native Americans take   \n",
       "1                           Go home drunk MAGA Trump   \n",
       "2  Amazon investigating Chinese employee selling ...   \n",
       "3                 Someone veTaken piece shit volcano   \n",
       "4       Obama wanted liberal illegals move red state   \n",
       "\n",
       "                                  clean_sentence_EDA  \n",
       "0                          ask native Americans take  \n",
       "1                           Go home drunk MAGA Trump  \n",
       "2  Amazon investigating Chinese employee selling ...  \n",
       "3                 Someone veTaken piece shit volcano  \n",
       "4       Obama wanted liberal illegals move red state  "
      ]
     },
     "execution_count": 124,
     "metadata": {},
     "output_type": "execute_result"
    }
   ],
   "source": [
    "# Import Dataset\n",
    "df_all= pd.read_csv(\"./veer_sub/combine_clean.csv\")\n",
    "df_all.head(5)\n"
   ]
  },
  {
   "cell_type": "code",
   "execution_count": 125,
   "metadata": {},
   "outputs": [
    {
     "data": {
      "text/plain": [
       "0    362320\n",
       "1     50920\n",
       "Name: label, dtype: int64"
      ]
     },
     "execution_count": 125,
     "metadata": {},
     "output_type": "execute_result"
    }
   ],
   "source": [
    "df_all['label'].value_counts()"
   ]
  },
  {
   "cell_type": "code",
   "execution_count": 126,
   "metadata": {},
   "outputs": [
    {
     "data": {
      "image/png": "[encoded data removed]",
      "text/plain": [
       "<Figure size 1000x700 with 1 Axes>"
      ]
     },
     "metadata": {},
     "output_type": "display_data"
    }
   ],
   "source": [
    "# Create new labels in the cleaned_dataset colunm\n",
    "\n",
    "keys = ['non risky', 'risky'] # plotting a pie chart on label Colunm\n",
    "     \n",
    "plt.figure(figsize = (10,7))\n",
    "plt.pie(df['label'].value_counts(), labels = keys)\n",
    "plt.title('Label count plot')\n",
    "plt.show() \n",
    "\n"
   ]
  },
  {
   "attachments": {},
   "cell_type": "markdown",
   "metadata": {},
   "source": [
    "While analyzing the data, I noticed a significant imbalance in favor of the non-risky dataset, which could potentially affect our modeling results. To address this, I presented two options: \n",
    "1. Sklearn's Random Undersampling technique and \n",
    "2. merging additional datasets to balance the data. \n",
    "\n",
    "After careful consideration, we decided to implement Sklearn's Random Undersampling technique. This approach will help create a more balanced dataset, improving the accuracy and reliability of our risk modeling efforts."
   ]
  },
  {
   "cell_type": "code",
   "execution_count": 127,
   "metadata": {},
   "outputs": [],
   "source": [
    "# Length of sentence shown by Histograph\n",
    "data = df_all['clean_sentence_EDA']\n",
    "counts = []\n",
    "# count words to gain insights\n",
    "for sentence in df_all['clean_sentence_EDA']:\n",
    "    sentence = word_tokenize(str(sentence))\n",
    "    word_count = len(sentence)\n",
    "    counts.append(word_count)\n"
   ]
  },
  {
   "cell_type": "code",
   "execution_count": 128,
   "metadata": {},
   "outputs": [
    {
     "data": {
      "image/png": "[encoded data removed]",
      "text/plain": [
       "<Figure size 800x550 with 2 Axes>"
      ]
     },
     "metadata": {},
     "output_type": "display_data"
    }
   ],
   "source": [
    "\n",
    "fig, axes = plt.subplots(1, 2)\n",
    "data.str.len().hist(ax=axes[0]).set_title('Length of Sentence').bins=30\n",
    "plt.title('Word Count')\n",
    "plt.hist(counts)\n",
    "plt.show()\n",
    "\n"
   ]
  },
  {
   "cell_type": "code",
   "execution_count": 129,
   "metadata": {},
   "outputs": [
    {
     "name": "stdout",
     "output_type": "stream",
     "text": [
      "Total number of words in the dataset: 14207440 words.\n",
      "Average length of sentences in the dataset: 34.38060207143548 words.\n",
      "Average length of words in the sentence: 6.032270838377639 characters\n"
     ]
    }
   ],
   "source": [
    "## Text Metrix A. total_num_words, B.average_word_length, C.average_sentence_length\n",
    "\n",
    "total_num_words= sum(counts)\n",
    "average_sentence_length= np.mean(counts)\n",
    "\n",
    "word_length=[]\n",
    "for sentence in df_all['clean_sentence_EDA']:\n",
    "    sentence= word_tokenize(str(sentence))\n",
    "    for word in sentence:\n",
    "        length=len(word)\n",
    "        word_length.append(length)\n",
    "average_word_length=np.mean(word_length)\n",
    "\n",
    "print(f'Total number of words in the dataset: {total_num_words} words.')\n",
    "print(f'Average length of sentences in the dataset: {average_sentence_length} words.')\n",
    "print(f'Average length of words in the sentence: {average_word_length} characters')\n",
    "\n",
    "\n",
    "\n",
    "\n"
   ]
  },
  {
   "attachments": {},
   "cell_type": "markdown",
   "metadata": {},
   "source": [
    "# Total number of words in the dataset: 15910784 words.\n",
    "# Average length of sentences in the dataset: 38.50 words.\n",
    "# Average length of words in the sentence: 5.62 characters"
   ]
  },
  {
   "cell_type": "code",
   "execution_count": 130,
   "metadata": {},
   "outputs": [
    {
     "name": "stdout",
     "output_type": "stream",
     "text": [
      "['ask', 'native', 'Americans', 'take', 'Go', 'home', 'drunk', 'MAGA', 'Trump', 'Someone', 'veTaken', 'piece', 'shit', 'volcano', 'Liberals', 'Kookoo', 'Oh', 'no', 'Tough', 'shit', 'literally', 'talking', 'lol', 'mass', 'shooting', 'like', 'set', 'ups', 'propaganda', 'used', 'divide', 'u', 'major', 'issue', 'like', 'gun', 'control', 'terrorism', 'Canada', 'need', 'another', 'CUCK', 'already', 'enough', 'LooneyLeft', 'Liberals', 'f', 'king', 'great', 'country', 'Qproofs', 'TrudeauMustGo', 'lying', 'corrupt', 'traitor', 'Nobody', 'want', 'hear', 'anymore', 'lie', 'DeepStateCorruption', 'gun', 'control', 'kid', 'asking', 'LOL', 'Throwing', 'BULLSHIT', 'Flag', 'nonsense', 'PutUpOrShutUp', 'Kavanaugh', 'MAGA', 'CallTheVoteAlready', 'Kind', 'like', 'conservative', 'wan', 'na', 'associate', 'everyone', 'left', 'communist', 'antifa', 'member', 'Da', 'fuck', 'going', 'people', 'men', 'room', 'woman', 'room', 'Pick', 'one', 'stick', 'w', 'Tbh', 'day', 'like']\n"
     ]
    }
   ],
   "source": [
    "# Most frequent words before and after data processing/cleaning\n",
    "all_words=[]\n",
    "df_all_toxic_word=df_all[df_all['label']==1]['clean_sentence_EDA']\n",
    "for sentence in df_all_toxic_word:\n",
    "    words= word_tokenize(str(sentence))\n",
    "    for word in words:\n",
    "        all_words.append(word)\n",
    "print(all_words[0:100])"
   ]
  },
  {
   "cell_type": "code",
   "execution_count": 131,
   "metadata": {},
   "outputs": [
    {
     "data": {
      "text/plain": [
       "(413240, 7)"
      ]
     },
     "execution_count": 131,
     "metadata": {},
     "output_type": "execute_result"
    }
   ],
   "source": [
    "df_all.shape"
   ]
  },
  {
   "cell_type": "code",
   "execution_count": 132,
   "metadata": {},
   "outputs": [
    {
     "name": "stdout",
     "output_type": "stream",
     "text": [
      "[('fuck', 19515), ('FUCK', 14600), ('like', 11183), ('SUCK', 10888), ('NIGGER', 8951), ('as', 8718), ('faggot', 7602), ('know', 7405), ('shit', 7239), ('page', 7026), ('FAT', 6948), ('u', 6895), ('SHIT', 6724), ('DIE', 6576), ('JEW', 6221), ('nigger', 6031), ('hate', 5933), ('fucking', 5862), ('people', 5765), ('moron', 5678)]\n"
     ]
    }
   ],
   "source": [
    "# let us find the 20 most common words now (after second round of pre-processing)\n",
    "\n",
    "most_common = Counter(all_words).most_common(20)\n",
    "print(most_common)\n"
   ]
  },
  {
   "cell_type": "code",
   "execution_count": 133,
   "metadata": {},
   "outputs": [],
   "source": [
    "\n",
    "# word frequency after second round of pre-processing\n",
    "\n",
    "words, frequency = [], []\n",
    "for word, count in most_common:\n",
    "    words.append(word)\n",
    "    frequency.append(count)\n",
    "    \n"
   ]
  },
  {
   "cell_type": "code",
   "execution_count": 134,
   "metadata": {},
   "outputs": [
    {
     "data": {
      "text/plain": [
       "<AxesSubplot: >"
      ]
     },
     "execution_count": 134,
     "metadata": {},
     "output_type": "execute_result"
    },
    {
     "data": {
      "image/png": "[encoded data removed]",
      "text/plain": [
       "<Figure size 800x550 with 1 Axes>"
      ]
     },
     "metadata": {},
     "output_type": "display_data"
    }
   ],
   "source": [
    "sns.barplot(x = frequency, y = words)"
   ]
  },
  {
   "cell_type": "code",
   "execution_count": 135,
   "metadata": {},
   "outputs": [
    {
     "data": {
      "image/png": "[encoded data removed]",
      "text/plain": [
       "<Figure size 800x550 with 1 Axes>"
      ]
     },
     "metadata": {},
     "output_type": "display_data"
    }
   ],
   "source": [
    "# create a word cloud (for risky sentence)\n",
    "\n",
    "word_cloud = WordCloud(collocations=False, background_color='white').generate(str(df_all[df_all['label'] == 1]['clean_sentence_EDA']))\n",
    "\n",
    "plt.imshow(word_cloud, interpolation='bilinear')\n",
    "plt.axis(\"off\")\n",
    "plt.show()"
   ]
  },
  {
   "attachments": {},
   "cell_type": "markdown",
   "metadata": {},
   "source": [
    "## Step3 Modelling (3a train test split and 3b Model application)"
   ]
  },
  {
   "cell_type": "code",
   "execution_count": 136,
   "metadata": {},
   "outputs": [],
   "source": [
    "from  imblearn.pipeline import Pipeline as ImbalancedPipeline\n",
    "from sklearn.linear_model import LogisticRegression\n",
    "from sklearn.feature_extraction.text import TfidfVectorizer\n",
    "from sklearn.model_selection import train_test_split\n",
    "from sklearn.metrics import classification_report\n",
    "from sklearn import metrics\n",
    "from imblearn.under_sampling import RandomUnderSampler\n",
    "\n",
    "import seaborn as sns\n",
    "from sklearn.metrics import confusion_matrix\n",
    "\n",
    "\n",
    "\n"
   ]
  },
  {
   "cell_type": "code",
   "execution_count": 137,
   "metadata": {},
   "outputs": [],
   "source": [
    "dataset= pd.read_csv(\"/Users/naveenkhajuria/Purti_Coding/egypt/veer_sub/combine_clean.csv\")\n",
    "dataset.shape\n",
    "dataset.dropna(inplace=True)\n",
    "dataset.drop_duplicates(inplace=True)\n"
   ]
  },
  {
   "attachments": {},
   "cell_type": "markdown",
   "metadata": {},
   "source": [
    "## Step3a Splitting the text data into training and validation using sklearn train_test_split"
   ]
  },
  {
   "cell_type": "code",
   "execution_count": 138,
   "metadata": {},
   "outputs": [],
   "source": [
    "X_train, X_test, y_train, y_test= train_test_split(dataset['clean_sentence_training'], dataset['label'], test_size=0.2, random_state=42)"
   ]
  },
  {
   "cell_type": "code",
   "execution_count": 139,
   "metadata": {},
   "outputs": [
    {
     "data": {
      "text/plain": [
       "((330478,), (82620,), (330478,), (82620,))"
      ]
     },
     "execution_count": 139,
     "metadata": {},
     "output_type": "execute_result"
    }
   ],
   "source": [
    "X_train.shape, X_test.shape, y_train.shape, y_test.shape"
   ]
  },
  {
   "attachments": {},
   "cell_type": "markdown",
   "metadata": {},
   "source": [
    "## Step 3b Modelling"
   ]
  },
  {
   "attachments": {},
   "cell_type": "markdown",
   "metadata": {},
   "source": [
    "Modelling steps involved in the analysis are as follows: \n",
    "\n",
    "1.  Create a pipeline with TF-IDF transformation and logistic regression for classification\n",
    "\n",
    "2. Train the model without utilizing random undersampling to evaluate the performance on the non-balanced dataset (#pipeline1 without applying imbalance randomsampling technique and #pipeline with imbalance randomsampling)\n",
    "\n",
    "3. Compare the model's performance on the balanced dataset, obtained by applying random undersampling, with the performance on the non-balanced dataset to assess the impact of dataset balancing on model performance"
   ]
  },
  {
   "cell_type": "code",
   "execution_count": 140,
   "metadata": {},
   "outputs": [
    {
     "name": "stdout",
     "output_type": "stream",
     "text": [
      "              precision    recall  f1-score   support\n",
      "\n",
      "           0       0.95      0.99      0.97     72450\n",
      "           1       0.88      0.63      0.74     10170\n",
      "\n",
      "    accuracy                           0.94     82620\n",
      "   macro avg       0.91      0.81      0.85     82620\n",
      "weighted avg       0.94      0.94      0.94     82620\n",
      "\n",
      "0.944081336238199\n"
     ]
    }
   ],
   "source": [
    "\n",
    "# First without imbalance randomsampling application\n",
    "\n",
    "pipeline1= ImbalancedPipeline([\n",
    "    ('tfidf', TfidfVectorizer(ngram_range=(1,3), min_df=5, max_df=0.7)),\n",
    "    ('classifier', LogisticRegression(multi_class='ovr', max_iter=1000))\n",
    "])\n",
    "\n",
    "# Fit the pipe line to the training data\n",
    "pipeline1.fit(X_train, y_train)\n",
    "\n",
    "# Predict on the test data\n",
    "y_pred= pipeline1.predict(X_test)\n",
    "\n",
    "print(classification_report(y_test, y_pred))\n",
    "print(metrics.f1_score(y_test, y_pred, average='micro'))"
   ]
  },
  {
   "cell_type": "markdown",
   "metadata": {},
   "source": []
  },
  {
   "attachments": {},
   "cell_type": "markdown",
   "metadata": {},
   "source": [
    "## Step 4 Ploting the Confusion Matrix"
   ]
  },
  {
   "cell_type": "code",
   "execution_count": 141,
   "metadata": {},
   "outputs": [
    {
     "data": {
      "text/plain": [
       "<AxesSubplot: >"
      ]
     },
     "execution_count": 141,
     "metadata": {},
     "output_type": "execute_result"
    },
    {
     "data": {
      "image/png": "[encoded data removed]",
      "text/plain": [
       "<Figure size 800x550 with 2 Axes>"
      ]
     },
     "metadata": {},
     "output_type": "display_data"
    }
   ],
   "source": [
    "sns.heatmap(confusion_matrix(y_test, y_pred), annot=True, fmt='d')\n"
   ]
  },
  {
   "cell_type": "code",
   "execution_count": 142,
   "metadata": {},
   "outputs": [
    {
     "name": "stdout",
     "output_type": "stream",
     "text": [
      "              precision    recall  f1-score   support\n",
      "\n",
      "           0       0.98      0.92      0.95     72450\n",
      "           1       0.59      0.88      0.71     10170\n",
      "\n",
      "    accuracy                           0.91     82620\n",
      "   macro avg       0.79      0.90      0.83     82620\n",
      "weighted avg       0.93      0.91      0.92     82620\n",
      "\n",
      "0.9112321471798596\n"
     ]
    }
   ],
   "source": [
    "# Second pipeline with imbalance randonsampling technique application\n",
    "\n",
    "lgmodel = LogisticRegression(multi_class='ovr', max_iter=1000)\n",
    "pipeline= ImbalancedPipeline([\n",
    "    ('tfidf', TfidfVectorizer(ngram_range=(1,3), min_df=5, max_df=0.7)),\n",
    "    ('random_undersampling', RandomUnderSampler()),\n",
    "    ('classifier', lgmodel)\n",
    "])\n",
    "\n",
    "# Fit the pipe line to the training data\n",
    "pipeline.fit(X_train, y_train)\n",
    "\n",
    "# Predict on the test data\n",
    "y_pred= pipeline.predict(X_test)\n",
    "\n",
    "print(classification_report(y_test, y_pred))\n",
    "print(metrics.f1_score(y_test, y_pred, average='micro'))"
   ]
  },
  {
   "cell_type": "code",
   "execution_count": 143,
   "metadata": {},
   "outputs": [
    {
     "data": {
      "text/plain": [
       "<AxesSubplot: >"
      ]
     },
     "execution_count": 143,
     "metadata": {},
     "output_type": "execute_result"
    },
    {
     "data": {
      "image/png": "[encoded data removed]",
      "text/plain": [
       "<Figure size 800x550 with 2 Axes>"
      ]
     },
     "metadata": {},
     "output_type": "display_data"
    }
   ],
   "source": [
    "sns.heatmap(confusion_matrix(y_test, y_pred), annot=True, fmt='d')\n",
    "\n",
    " "
   ]
  },
  {
   "attachments": {},
   "cell_type": "markdown",
   "metadata": {},
   "source": [
    "Data insights and learnings\n",
    "\n",
    "1. Dataset skew: The dataset had a higher number of non-risky sentences compared to risky sentences, indicating an imbalance in the data.\n",
    "\n",
    "2. Dataset balancing: To address the dataset imbalance and improve performance, Sklearn's undersampling technique was applied. This involved reducing instances in the majority class (non-risky sentences).\n",
    "\n",
    "3. Pipeline implementation: A pipeline was developed to handle the imbalanced nature of the dataset, ensuring that the model considers this characteristic during training.\n",
    "\n",
    "4. Initial model performance: Before correcting the data imbalance, the model was evaluated. The recall for the risky class (1) was found to be 0.63, indicating that the model correctly identified only 63% of the actual risky sentences.\n",
    "\n",
    "5. RandomUndersampling impact: After applying the RandomUndersampling technique to balance the dataset, the recall for the risky class improved to 88% from 63%. This improvement addressed the issue of poor performance for the minority class (risky sentences) caused by algorithmic bias towards the dominant class.\n",
    "\n",
    "6. Benefits of undersampling: Undersampling allowed the model to focus on the minority class, enhancing pattern learning and overall performance.\n",
    "\n",
    "7. Model selection: Logistic regression was initially chosen as the classification model for this problem. However, alternative models can be considered based on specific project requirements and goals."
   ]
  },
  {
   "attachments": {},
   "cell_type": "markdown",
   "metadata": {},
   "source": [
    "\n",
    "\n",
    "\n",
    "Some additional work that could be considered includes \n",
    "1. Implementing stratified k-fold for the train-test split to address dataset skewness, and assessing it's performance compared to base model i.e. ogistic regression. This approach ensures balanced class distribution.\n",
    "2. Explore alternative algorithms (e.g., decision trees, random forests), and provides insights into potential improvements in prediction accuracy.\n",
    "3. Explore applying other techniques for imbalance dataset from SKlearn library\n",
    "\n"
   ]
  },
  {
   "cell_type": "code",
   "execution_count": 144,
   "metadata": {},
   "outputs": [],
   "source": [
    "import pickle\n",
    "with open('mytoxiccomentlgmodel.pickle', 'wb') as f:\n",
    "    pickle.dump(pipeline,f)"
   ]
  }
 ],
 "metadata": {
  "kernelspec": {
   "display_name": "Python 3",
   "language": "python",
   "name": "python3"
  },
  "language_info": {
   "codemirror_mode": {
    "name": "ipython",
    "version": 3
   },
   "file_extension": ".py",
   "mimetype": "text/x-python",
   "name": "python",
   "nbconvert_exporter": "python",
   "pygments_lexer": "ipython3",
   "version": "3.9.6"
  },
  "orig_nbformat": 4,
  "vscode": {
   "interpreter": {
    "hash": "31f2aee4e71d21fbe5cf8b01ff0e069b9275f58929596ceb00d14d90e3e16cd6"
   }
  }
 },
 "nbformat": 4,
 "nbformat_minor": 2
}
